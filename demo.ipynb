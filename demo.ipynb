{
 "cells": [
  {
   "cell_type": "code",
   "execution_count": null,
   "id": "68a22b8a",
   "metadata": {},
   "outputs": [],
   "source": [
    "# import necessary libraries\n",
    "import psycopg2 as pg2\n",
    "import os\n",
    "from dotenv import load_dotenv\n",
    "load_dotenv()"
   ]
  },
  {
   "cell_type": "code",
   "execution_count": null,
   "id": "42cf9088",
   "metadata": {},
   "outputs": [],
   "source": [
    "pword = os.getenv(\"DB_PASSWORD\")\n",
    "username = os.getenv(\"DB_USER\")\n",
    "database = os.getenv(\"DB_NAME\")"
   ]
  },
  {
   "cell_type": "code",
   "execution_count": null,
   "id": "8a1705a2",
   "metadata": {},
   "outputs": [],
   "source": [
    "# establish connection to the database\n",
    "conn = pg2.connect(database=database, user=username, password=pword)"
   ]
  },
  {
   "cell_type": "code",
   "execution_count": null,
   "id": "28445139",
   "metadata": {},
   "outputs": [],
   "source": [
    "# create a cursor object\n",
    "cur = conn.cursor()"
   ]
  },
  {
   "cell_type": "code",
   "execution_count": null,
   "id": "94825629",
   "metadata": {},
   "outputs": [],
   "source": [
    "# execute a query\n",
    "cur.execute(\"SELECT * FROM crm_payments;\") "
   ]
  },
  {
   "cell_type": "code",
   "execution_count": null,
   "id": "bae2dcb8",
   "metadata": {},
   "outputs": [],
   "source": [
    "# fetch results\n",
    "cur.fetchmany(10)"
   ]
  },
  {
   "cell_type": "code",
   "execution_count": null,
   "id": "01709e26",
   "metadata": {},
   "outputs": [],
   "source": [
    "# fetch all results\n",
    "data = cur.fetchall()  # use cautiously with large datasets"
   ]
  },
  {
   "cell_type": "code",
   "execution_count": null,
   "id": "3454d588",
   "metadata": {},
   "outputs": [],
   "source": [
    "data[4][22] # access specific data point through indexing"
   ]
  },
  {
   "cell_type": "code",
   "execution_count": null,
   "id": "55004c53",
   "metadata": {},
   "outputs": [],
   "source": [
    "conn.close()  # close the connection"
   ]
  },
  {
   "cell_type": "markdown",
   "id": "170e4471",
   "metadata": {},
   "source": [
    "**Prevent SQL Injection** \n",
    "\n",
    "Always use parameterized queries (also known as placeholders) for passing variable data to SQL commands. Never format SQL strings directly with user input. Use %s as the placeholder in the SQL string, and pass the values as a separate tuple to <code>cursor.execute()</code>.\n",
    "\n",
    "Example: <code>cursor.execute(\"INSERT INTO users (name, email) VALUES (%s, %s);\", (user_name, user_email))</code>"
   ]
  },
  {
   "cell_type": "code",
   "execution_count": null,
   "id": "89343986",
   "metadata": {},
   "outputs": [],
   "source": []
  }
 ],
 "metadata": {
  "kernelspec": {
   "display_name": "python_sql_env",
   "language": "python",
   "name": "python3"
  },
  "language_info": {
   "codemirror_mode": {
    "name": "ipython",
    "version": 3
   },
   "file_extension": ".py",
   "mimetype": "text/x-python",
   "name": "python",
   "nbconvert_exporter": "python",
   "pygments_lexer": "ipython3",
   "version": "3.13.5"
  }
 },
 "nbformat": 4,
 "nbformat_minor": 5
}
