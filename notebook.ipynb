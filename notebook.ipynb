{
 "cells": [
  {
   "cell_type": "code",
   "execution_count": null,
   "id": "68a22b8a",
   "metadata": {},
   "outputs": [],
   "source": [
    "import psycopg2 as pg2\n",
    "import os\n",
    "from dotenv import load_dotenv\n",
    "load_dotenv()"
   ]
  },
  {
   "cell_type": "code",
   "execution_count": null,
   "id": "42cf9088",
   "metadata": {},
   "outputs": [],
   "source": [
    "pword = os.getenv(\"DB_PASSWORD\")\n",
    "username = os.getenv(\"DB_USER\")\n",
    "database = os.getenv(\"DB_NAME\")"
   ]
  },
  {
   "cell_type": "code",
   "execution_count": null,
   "id": "8a1705a2",
   "metadata": {},
   "outputs": [],
   "source": [
    "conn = pg2.connect(database=database, user=username, password=pword)"
   ]
  }
 ],
 "metadata": {
  "kernelspec": {
   "display_name": "python_sql_env",
   "language": "python",
   "name": "python3"
  },
  "language_info": {
   "codemirror_mode": {
    "name": "ipython",
    "version": 3
   },
   "file_extension": ".py",
   "mimetype": "text/x-python",
   "name": "python",
   "nbconvert_exporter": "python",
   "pygments_lexer": "ipython3",
   "version": "3.13.5"
  }
 },
 "nbformat": 4,
 "nbformat_minor": 5
}
